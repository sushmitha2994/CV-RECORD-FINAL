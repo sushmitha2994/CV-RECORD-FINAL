{
  "cells": [
    {
      "cell_type": "code",
      "execution_count": null,
      "metadata": {
        "colab": {
          "background_save": true,
          "base_uri": "https://localhost:8080/",
          "height": 1000
        },
        "id": "m_GihhKDXfZm",
        "outputId": "1b24d26e-6b22-47c1-84d1-19a0f68ca2dd"
      },
      "outputs": [
        {
          "name": "stderr",
          "output_type": "stream",
          "text": [
            "/usr/local/lib/python3.11/dist-packages/keras/src/layers/convolutional/base_conv.py:107: UserWarning: Do not pass an `input_shape`/`input_dim` argument to a layer. When using Sequential models, prefer using an `Input(shape)` object as the first layer in the model instead.\n",
            "  super().__init__(activity_regularizer=activity_regularizer, **kwargs)\n"
          ]
        },
        {
          "name": "stdout",
          "output_type": "stream",
          "text": [
            "Epoch 1/25\n",
            "\u001b[1m33/33\u001b[0m \u001b[32m━━━━━━━━━━━━━━━━━━━━\u001b[0m\u001b[37m\u001b[0m \u001b[1m13s\u001b[0m 150ms/step - accuracy: 0.3402 - loss: 1.8333 - val_accuracy: 0.4806 - val_loss: 1.6240\n",
            "Epoch 2/25\n",
            "\u001b[1m33/33\u001b[0m \u001b[32m━━━━━━━━━━━━━━━━━━━━\u001b[0m\u001b[37m\u001b[0m \u001b[1m0s\u001b[0m 8ms/step - accuracy: 0.3952 - loss: 1.7190 - val_accuracy: 0.4806 - val_loss: 1.6781\n",
            "Epoch 3/25\n",
            "\u001b[1m33/33\u001b[0m \u001b[32m━━━━━━━━━━━━━━━━━━━━\u001b[0m\u001b[37m\u001b[0m \u001b[1m0s\u001b[0m 8ms/step - accuracy: 0.3798 - loss: 1.7446 - val_accuracy: 0.4806 - val_loss: 1.6200\n",
            "Epoch 4/25\n",
            "\u001b[1m33/33\u001b[0m \u001b[32m━━━━━━━━━━━━━━━━━━━━\u001b[0m\u001b[37m\u001b[0m \u001b[1m0s\u001b[0m 8ms/step - accuracy: 0.4066 - loss: 1.7069 - val_accuracy: 0.4806 - val_loss: 1.6025\n",
            "Epoch 5/25\n",
            "\u001b[1m33/33\u001b[0m \u001b[32m━━━━━━━━━━━━━━━━━━━━\u001b[0m\u001b[37m\u001b[0m \u001b[1m0s\u001b[0m 9ms/step - accuracy: 0.4057 - loss: 1.7059 - val_accuracy: 0.4806 - val_loss: 1.6212\n",
            "Epoch 6/25\n",
            "\u001b[1m33/33\u001b[0m \u001b[32m━━━━━━━━━━━━━━━━━━━━\u001b[0m\u001b[37m\u001b[0m \u001b[1m1s\u001b[0m 9ms/step - accuracy: 0.4069 - loss: 1.7045 - val_accuracy: 0.4806 - val_loss: 1.6072\n",
            "Epoch 7/25\n",
            "\u001b[1m33/33\u001b[0m \u001b[32m━━━━━━━━━━━━━━━━━━━━\u001b[0m\u001b[37m\u001b[0m \u001b[1m1s\u001b[0m 7ms/step - accuracy: 0.4072 - loss: 1.7095 - val_accuracy: 0.4806 - val_loss: 1.6021\n",
            "Epoch 8/25\n",
            "\u001b[1m33/33\u001b[0m \u001b[32m━━━━━━━━━━━━━━━━━━━━\u001b[0m\u001b[37m\u001b[0m \u001b[1m0s\u001b[0m 7ms/step - accuracy: 0.3954 - loss: 1.7339 - val_accuracy: 0.4806 - val_loss: 1.5898\n",
            "Epoch 9/25\n",
            "\u001b[1m33/33\u001b[0m \u001b[32m━━━━━━━━━━━━━━━━━━━━\u001b[0m\u001b[37m\u001b[0m \u001b[1m0s\u001b[0m 6ms/step - accuracy: 0.3997 - loss: 1.6924 - val_accuracy: 0.4806 - val_loss: 1.6052\n",
            "Epoch 10/25\n",
            "\u001b[1m33/33\u001b[0m \u001b[32m━━━━━━━━━━━━━━━━━━━━\u001b[0m\u001b[37m\u001b[0m \u001b[1m0s\u001b[0m 8ms/step - accuracy: 0.4177 - loss: 1.6886 - val_accuracy: 0.4806 - val_loss: 1.5988\n",
            "Epoch 11/25\n",
            "\u001b[1m33/33\u001b[0m \u001b[32m━━━━━━━━━━━━━━━━━━━━\u001b[0m\u001b[37m\u001b[0m \u001b[1m0s\u001b[0m 7ms/step - accuracy: 0.3920 - loss: 1.6993 - val_accuracy: 0.4806 - val_loss: 1.6066\n",
            "Epoch 12/25\n",
            "\u001b[1m33/33\u001b[0m \u001b[32m━━━━━━━━━━━━━━━━━━━━\u001b[0m\u001b[37m\u001b[0m \u001b[1m0s\u001b[0m 8ms/step - accuracy: 0.4011 - loss: 1.7135 - val_accuracy: 0.4806 - val_loss: 1.5992\n",
            "Epoch 13/25\n",
            "\u001b[1m33/33\u001b[0m \u001b[32m━━━━━━━━━━━━━━━━━━━━\u001b[0m\u001b[37m\u001b[0m \u001b[1m0s\u001b[0m 7ms/step - accuracy: 0.4073 - loss: 1.7055 - val_accuracy: 0.4806 - val_loss: 1.6053\n",
            "Epoch 14/25\n",
            "\u001b[1m33/33\u001b[0m \u001b[32m━━━━━━━━━━━━━━━━━━━━\u001b[0m\u001b[37m\u001b[0m \u001b[1m0s\u001b[0m 7ms/step - accuracy: 0.4168 - loss: 1.6817 - val_accuracy: 0.4806 - val_loss: 1.6289\n",
            "Epoch 15/25\n",
            "\u001b[1m33/33\u001b[0m \u001b[32m━━━━━━━━━━━━━━━━━━━━\u001b[0m\u001b[37m\u001b[0m \u001b[1m0s\u001b[0m 6ms/step - accuracy: 0.4232 - loss: 1.6854 - val_accuracy: 0.4806 - val_loss: 1.6151\n",
            "Epoch 16/25\n",
            "\u001b[1m33/33\u001b[0m \u001b[32m━━━━━━━━━━━━━━━━━━━━\u001b[0m\u001b[37m\u001b[0m \u001b[1m0s\u001b[0m 7ms/step - accuracy: 0.3826 - loss: 1.7297 - val_accuracy: 0.4806 - val_loss: 1.5839\n",
            "Epoch 17/25\n",
            "\u001b[1m33/33\u001b[0m \u001b[32m━━━━━━━━━━━━━━━━━━━━\u001b[0m\u001b[37m\u001b[0m \u001b[1m0s\u001b[0m 7ms/step - accuracy: 0.3973 - loss: 1.7230 - val_accuracy: 0.4806 - val_loss: 1.5981\n",
            "Epoch 18/25\n",
            "\u001b[1m33/33\u001b[0m \u001b[32m━━━━━━━━━━━━━━━━━━━━\u001b[0m\u001b[37m\u001b[0m \u001b[1m0s\u001b[0m 8ms/step - accuracy: 0.3919 - loss: 1.7096 - val_accuracy: 0.4806 - val_loss: 1.6008\n",
            "Epoch 19/25\n",
            "\u001b[1m33/33\u001b[0m \u001b[32m━━━━━━━━━━━━━━━━━━━━\u001b[0m\u001b[37m\u001b[0m \u001b[1m1s\u001b[0m 14ms/step - accuracy: 0.4123 - loss: 1.6915 - val_accuracy: 0.4806 - val_loss: 1.6145\n",
            "Epoch 20/25\n",
            "\u001b[1m33/33\u001b[0m \u001b[32m━━━━━━━━━━━━━━━━━━━━\u001b[0m\u001b[37m\u001b[0m \u001b[1m1s\u001b[0m 14ms/step - accuracy: 0.3834 - loss: 1.7132 - val_accuracy: 0.4806 - val_loss: 1.5939\n",
            "Epoch 21/25\n",
            "\u001b[1m33/33\u001b[0m \u001b[32m━━━━━━━━━━━━━━━━━━━━\u001b[0m\u001b[37m\u001b[0m \u001b[1m1s\u001b[0m 14ms/step - accuracy: 0.3974 - loss: 1.7185 - val_accuracy: 0.4806 - val_loss: 1.5935\n",
            "Epoch 22/25\n",
            "\u001b[1m33/33\u001b[0m \u001b[32m━━━━━━━━━━━━━━━━━━━━\u001b[0m\u001b[37m\u001b[0m \u001b[1m1s\u001b[0m 12ms/step - accuracy: 0.4087 - loss: 1.6979 - val_accuracy: 0.4806 - val_loss: 1.6012\n",
            "Epoch 23/25\n",
            "\u001b[1m33/33\u001b[0m \u001b[32m━━━━━━━━━━━━━━━━━━━━\u001b[0m\u001b[37m\u001b[0m \u001b[1m0s\u001b[0m 14ms/step - accuracy: 0.4033 - loss: 1.6908 - val_accuracy: 0.4806 - val_loss: 1.6033\n",
            "Epoch 24/25\n",
            "\u001b[1m33/33\u001b[0m \u001b[32m━━━━━━━━━━━━━━━━━━━━\u001b[0m\u001b[37m\u001b[0m \u001b[1m1s\u001b[0m 13ms/step - accuracy: 0.3779 - loss: 1.7254 - val_accuracy: 0.4806 - val_loss: 1.5818\n",
            "Epoch 25/25\n",
            "\u001b[1m33/33\u001b[0m \u001b[32m━━━━━━━━━━━━━━━━━━━━\u001b[0m\u001b[37m\u001b[0m \u001b[1m0s\u001b[0m 9ms/step - accuracy: 0.4021 - loss: 1.7129 - val_accuracy: 0.4806 - val_loss: 1.5954\n",
            "\u001b[1m5/5\u001b[0m \u001b[32m━━━━━━━━━━━━━━━━━━━━\u001b[0m\u001b[37m\u001b[0m \u001b[1m0s\u001b[0m 7ms/step - accuracy: 0.4403 - loss: 1.6348 \n",
            "Test accuracy: 44.19%\n",
            "\u001b[1m1/1\u001b[0m \u001b[32m━━━━━━━━━━━━━━━━━━━━\u001b[0m\u001b[37m\u001b[0m \u001b[1m0s\u001b[0m 378ms/step\n"
          ]
        },
        {
          "data": {
            "image/png": "[encoded data removed]",
            "text/plain": [
              "<Figure size 640x480 with 1 Axes>"
            ]
          },
          "metadata": {},
          "output_type": "display_data"
        }
      ],
      "source": [
        "import numpy as np\n",
        "import os\n",
        "import random\n",
        "import matplotlib.pyplot as plt\n",
        "from sklearn.model_selection import train_test_split\n",
        "from sklearn.datasets import fetch_lfw_people\n",
        "from tensorflow.keras.models import Sequential\n",
        "from tensorflow.keras.layers import Conv2D, MaxPooling2D, Flatten, Dense, Dropout\n",
        "from tensorflow.keras.optimizers import Adam\n",
        "from tensorflow.keras.utils import to_categorical\n",
        "\n",
        "# Step 1: Load the LFW dataset\n",
        "lfw_people = fetch_lfw_people(min_faces_per_person=70, resize=0.4)\n",
        "\n",
        "# Get the images and the labels\n",
        "images = lfw_people.images\n",
        "labels = lfw_people.target\n",
        "target_names = lfw_people.target_names\n",
        "\n",
        "# Step 2: Preprocess the data\n",
        "# Reshape images to (num_samples, height, width, channels)\n",
        "X = np.expand_dims(images, axis=-1)  # (samples, 50, 37, 1)\n",
        "X = X / 255.0  # Normalize images to the range [0, 1]\n",
        "\n",
        "# Convert labels to one-hot encoding\n",
        "y = to_categorical(labels, num_classes=len(target_names))\n",
        "\n",
        "# Step 3: Split the data into training, validation, and test sets\n",
        "X_train, X_temp, y_train, y_temp = train_test_split(X, y, test_size=0.2, random_state=42)\n",
        "X_val, X_test, y_val, y_test = train_test_split(X_temp, y_temp, test_size=0.5, random_state=42)\n",
        "\n",
        "# Step 4: Define the CNN architecture\n",
        "model = Sequential()\n",
        "\n",
        "model.add(Conv2D(32, (3, 3), activation='relu', input_shape=(50, 37, 1)))\n",
        "model.add(MaxPooling2D((2, 2)))\n",
        "model.add(Dropout(0.25))\n",
        "\n",
        "model.add(Conv2D(64, (3, 3), activation='relu'))\n",
        "model.add(MaxPooling2D((2, 2)))\n",
        "model.add(Dropout(0.25))\n",
        "\n",
        "model.add(Conv2D(128, (3, 3), activation='relu'))\n",
        "model.add(MaxPooling2D((2, 2)))\n",
        "model.add(Dropout(0.25))\n",
        "\n",
        "model.add(Flatten())\n",
        "model.add(Dense(512, activation='relu'))\n",
        "model.add(Dropout(0.5))\n",
        "model.add(Dense(len(target_names), activation='softmax'))\n",
        "\n",
        "# Step 5: Compile the model\n",
        "model.compile(optimizer=Adam(learning_rate=0.001),\n",
        "              loss='categorical_crossentropy',\n",
        "              metrics=['accuracy'])\n",
        "\n",
        "# Step 6: Train the model\n",
        "history = model.fit(X_train, y_train, epochs=25, batch_size=32, validation_data=(X_val, y_val))\n",
        "\n",
        "# Step 7: Evaluate the model on the test set\n",
        "test_loss, test_acc = model.evaluate(X_test, y_test)\n",
        "print(f\"Test accuracy: {test_acc * 100:.2f}%\")\n",
        "\n",
        "# Step 8: Predict the class of a random test image\n",
        "random_idx = random.randint(0, len(X_test) - 1)\n",
        "random_img = X_test[random_idx]\n",
        "random_label = y_test[random_idx]\n",
        "\n",
        "# Predict the class\n",
        "prediction = model.predict(np.expand_dims(random_img, axis=0))\n",
        "predicted_class = np.argmax(prediction)\n",
        "\n",
        "# Get the class name\n",
        "predicted_class_name = target_names[predicted_class]\n",
        "true_class_name = target_names[np.argmax(random_label)]\n",
        "\n",
        "# Display the image and the prediction\n",
        "plt.imshow(random_img.squeeze(), cmap='gray')\n",
        "plt.title(f\"Predicted: {predicted_class_name}, True: {true_class_name}\")\n",
        "plt.show()\n",
        "\n",
        "# End the program\n"
      ]
    },
    {
      "cell_type": "code",
      "execution_count": null,
      "metadata": {
        "id": "iA-6RBJYdhQO"
      },
      "outputs": [],
      "source": []
    }
  ],
  "metadata": {
    "accelerator": "GPU",
    "colab": {
      "gpuType": "T4",
      "provenance": []
    },
    "kernelspec": {
      "display_name": "Python 3",
      "name": "python3"
    },
    "language_info": {
      "name": "python"
    }
  },
  "nbformat": 4,
  "nbformat_minor": 0
}